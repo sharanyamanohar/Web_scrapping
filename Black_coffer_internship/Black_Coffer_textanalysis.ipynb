{
 "cells": [
  {
   "cell_type": "markdown",
   "id": "c03104f5",
   "metadata": {},
   "source": [
    "# Sharanya Manohar\n",
    "# Text analysis"
   ]
  },
  {
   "cell_type": "code",
   "execution_count": 1,
   "id": "dec8bd64",
   "metadata": {},
   "outputs": [],
   "source": [
    "from selenium import webdriver\n",
    "from selenium.webdriver.common.keys import Keys\n",
    "from selenium.webdriver.common.by import By\n",
    "import nltk\n",
    "import os\n",
    "from nltk.tokenize import word_tokenize\n",
    "from nltk.corpus import stopwords"
   ]
  },
  {
   "cell_type": "code",
   "execution_count": 51,
   "id": "6cb4f45f",
   "metadata": {},
   "outputs": [],
   "source": [
    "l=[\"ai-in-healthcare-to-improve-patient-outcomes/\",\n",
    "   \"what-if-the-creation-is-taking-over-the-creator/\",\n",
    "   \"what-jobs-will-robots-take-from-humans-in-the-future/\",\n",
    "  \"will-machine-replace-the-human-in-the-future-of-work/\",\n",
    "   \"will-ai-replace-us-or-work-with-us/\",\n",
    "   \"man-and-machines-together-machines-are-more-diligent-than-humans-blackcoffe/\",\n",
    "\"in-future-or-in-upcoming-years-humans-and-machines-are-going-to-work-together-in-every-field-of-work/\",\n",
    "   \"how-neural-networks-can-be-applied-in-various-areas-in-the-future/\",\n",
    "\"how-machine-learning-will-affect-your-business/\",\n",
    "   \"deep-learning-impact-on-areas-of-e-learning/\",\n",
    "   \"how-to-protect-future-data-and-its-privacy-blackcoffer/\",\n",
    "\"how-machines-ai-automations-and-robo-human-are-effective-in-finance-and-banking/\",\n",
    "\"ai-human-robotics-machine-future-planet-blackcoffer-thinking-jobs-workplace/\",\n",
    "\"how-ai-will-change-the-world-blackcoffer/\",\n",
    "\"future-of-work-how-ai-has-entered-the-workplace/\",\n",
    "\"ai-tool-alexa-google-assistant-finance-banking-tool-future/\",\n",
    "\"ai-healthcare-revolution-ml-technology-algorithm-google-analytics-industrialrevolution/\",\n",
    "\"all-you-need-to-know-about-online-marketing/\",\n",
    "\"evolution-of-advertising-industry/\",\n",
    "\"how-data-analytics-can-help-your-business-respond-to-the-impact-of-covid-19/\",\n",
    "\"covid-19-environmental-impact-for-the-future/\",\n",
    "\"environmental-impact-of-the-covid-19-pandemic-lesson-for-the-future/\",\n",
    "\"how-data-analytics-and-ai-are-used-to-halt-the-covid-19-pandemic/\",\n",
    "\"difference-between-artificial-intelligence-machine-learning-statistics-and-data-mining/\",\n",
    "\"how-python-became-the-first-choice-for-data-science/\",\n",
    "\"how-google-fit-measure-heart-and-respiratory-rates-using-a-phone/\",\n",
    "\"what-is-the-future-of-mobile-apps/\",\n",
    "\"impact-of-ai-in-health-and-medicine/\",\n",
    "\"telemedicine-what-patients-like-and-dislike-about-it/\",\n",
    "\"how-we-forecast-future-technologies/\",\n",
    "\"can-robots-tackle-late-life-loneliness/\",\n",
    "\"embedding-care-robots-into-society-socio-technical-considerations/\",\n",
    "\"management-challenges-for-future-digitalization-of-healthcare-services/\",\n",
    "\"are-we-any-closer-to-preventing-a-nuclear-holocaust/\",\n",
    "\"will-technology-eliminate-the-need-for-animal-testing-in-drug-development/\",\n",
    "\"will-we-ever-understand-the-nature-of-consciousness/\",\n",
    "\"will-we-ever-colonize-outer-space/\",\n",
    "\"what-is-the-chance-homo-sapiens-will-survive-for-the-next-500-years/\",\n",
    "\"why-does-your-business-need-a-chatbot/\",\n",
    "\"how-you-lead-a-project-or-a-team-without-any-technical-expertise/\",\n",
    "\"can-you-be-great-leader-without-technical-expertise/\",\n",
    "\"how-does-artificial-intelligence-affect-the-environment/\",\n",
    "\"how-to-overcome-your-fear-of-making-mistakes-2/\",\n",
    "\"is-perfection-the-greatest-enemy-of-productivity/\",\n",
    "\"global-financial-crisis-2008-causes-effects-and-its-solution/\",\n",
    "\"gender-diversity-and-equality-in-the-tech-industry/\",\n",
    "\"how-to-overcome-your-fear-of-making-mistakes/\",\n",
    "\"how-small-business-can-survive-the-coronavirus-crisis/\",\n",
    "\"impacts-of-covid-19-on-vegetable-vendors-and-food-stalls/\",\n",
    "\"impacts-of-covid-19-on-vegetable-vendors/\",\n",
    "\"impact-of-covid-19-pandemic-on-tourism-aviation-industries/\",\n",
    "\"impact-of-covid-19-pandemic-on-sports-events-around-the-world/\",\n",
    "\"changing-landscape-and-emerging-trends-in-the-indian-it-ites-industry/\",\n",
    "\"online-gaming-adolescent-online-gaming-effects-demotivated-depression-musculoskeletal-and-psychosomatic-symptoms/\",\n",
    "\"human-rights-outlook/\",\n",
    "\"how-voice-search-makes-your-business-a-successful-business/\",\n",
    "\"how-the-covid-19-crisis-is-redefining-jobs-and-services/\",\n",
    "\"how-to-increase-social-media-engagement-for-marketers/\",\n",
    "\"impacts-of-covid-19-on-streets-sides-food-stalls/\",\n",
    "\"coronavirus-impact-on-energy-markets-2/\",\n",
    "\"coronavirus-impact-on-the-hospitality-industry-5/\",\n",
    "\"lessons-from-the-past-some-key-learnings-relevant-to-the-coronavirus-crisis-4/\",\n",
    "\"estimating-the-impact-of-covid-19-on-the-world-of-work-2/\",\n",
    "\"estimating-the-impact-of-covid-19-on-the-world-of-work-3/\",\n",
    "\"travel-and-tourism-outlook/\",\n",
    "\"gaming-disorder-and-effects-of-gaming-on-health/\",\n",
    "\"what-is-the-repercussion-of-the-environment-due-to-the-covid-19-pandemic-situation/\",\n",
    "\"what-is-the-repercussion-of-the-environment-due-to-the-covid-19-pandemic-situation-2/\",\n",
    "\"impact-of-covid-19-pandemic-on-office-space-and-co-working-industries/\",\n",
    "\"contribution-of-handicrafts-visual-arts-literature-in-the-indian-economy/\",\n",
    "\"how-covid-19-is-impacting-payment-preferences/\",\n",
    "\"how-will-covid-19-affect-the-world-of-work-2/\",\n",
    "\"lessons-from-the-past-some-key-learnings-relevant-to-the-coronavirus-crisis/\",\n",
    "\"covid-19-how-have-countries-been-responding/\",\n",
    "\"coronavirus-impact-on-the-hospitality-industry-2/\",\n",
    "\"how-will-covid-19-affect-the-world-of-work-3/\",\n",
    "\"coronavirus-impact-on-the-hospitality-industry-3/\",\n",
    "\"estimating-the-impact-of-covid-19-on-the-world-of-work/\",\n",
    "\"covid-19-how-have-countries-been-responding-2/\",\n",
    "\"how-will-covid-19-affect-the-world-of-work-4/\",\n",
    "\"lessons-from-the-past-some-key-learnings-relevant-to-the-coronavirus-crisis-2/\",\n",
    "\"lessons-from-the-past-some-key-learnings-relevant-to-the-coronavirus-crisis-3/\",\n",
    "\"coronavirus-impact-on-the-hospitality-industry-4/\",\n",
    "\"why-scams-like-nirav-modi-happen-with-indian-banks/\",\n",
    "\"impact-of-covid-19-on-the-global-economy/\",\n",
    "\"impact-of-covid-19coronavirus-on-the-indian-economy-2/\",\n",
    "\"impact-of-covid-19-on-the-global-economy-2/\",\n",
    "\"impact-of-covid-19-coronavirus-on-the-indian-economy-3/\",\n",
    "\"should-celebrities-be-allowed-to-join-politics/\",\n",
    "\"how-prepared-is-india-to-tackle-a-possible-covid-19-outbreak/\",\n",
    "\"how-will-covid-19-affect-the-world-of-work/\",\n",
    "\"controversy-as-a-marketing-strategy/\",\n",
    "\"coronavirus-impact-on-the-hospitality-industry/\",\n",
    "\"coronavirus-impact-on-energy-markets/\",\n",
    "\"what-are-the-key-policies-that-will-mitigate-the-impacts-of-covid-19-on-the-world-of-work/\",\n",
    "\"marketing-drives-results-with-a-focus-on-problems/\",\n",
    "\"continued-demand-for-sustainability/\",\n",
    "\"coronavirus-disease-covid-19-effect-the-impact-and-role-of-mass-media-during-the-pandemic/\",\n",
    "\"should-people-wear-fabric-gloves-seeking-evidence-regarding-the-differential-transfer-of-covid-19-or-coronaviruses-generally-between-surfaces/\",\n",
    "\"why-is-there-a-severe-immunological-and-inflammatory-explosion-in-those-affected-by-sarms-covid-19/\",\n",
    "\"what-do-you-think-is-the-lesson-or-lessons-to-be-learned-with-covid-19/\",\n",
    "\"coronavirus-the-unexpected-challenge-for-the-european-union/\",\n",
    "\"industrial-revolution-4-0-pros-and-cons/\",\n",
    "\"impact-of-covid-19-coronavirus-on-the-indian-economy/\",\n",
    "\"impact-of-covid-19-coronavirus-on-the-indian-economy-2/\",\n",
    "\"impact-of-covid-19coronavirus-on-the-indian-economy/\",\n",
    "\"impact-of-covid-19-coronavirus-on-the-global-economy/\",\n",
    "\"ensuring-growth-through-insurance-technology/\",\n",
    "\"blockchain-in-fintech/\",\n",
    "\"blockchain-for-payments/\",\n",
    "\"the-future-of-investing/\",\n",
    "\"big-data-analytics-in-healthcare/\",\n",
    "\"business-analytics-in-the-healthcare-industry/\",\n",
    "\"challenges-and-opportunities-of-big-data-in-healthcare/\",\n",
    "]"
   ]
  },
  {
   "cell_type": "code",
   "execution_count": 52,
   "id": "feaf08a3",
   "metadata": {},
   "outputs": [
    {
     "data": {
      "text/plain": [
       "6047"
      ]
     },
     "execution_count": 52,
     "metadata": {},
     "output_type": "execute_result"
    }
   ],
   "source": [
    "driver = webdriver.Chrome()\n",
    "\n",
    "driver.get(\"https://insights.blackcoffer.com/\"+l[17])\n",
    "content = driver.find_element(\"xpath\",\"/html/body/div[6]/article/div[2]/div/div[1]/div/div[1]\")\n",
    "a=(content.text)\n",
    "text=len(a)\n",
    "text"
   ]
  },
  {
   "cell_type": "code",
   "execution_count": 53,
   "id": "fad107f5",
   "metadata": {},
   "outputs": [
    {
     "data": {
      "text/plain": [
       "int"
      ]
     },
     "execution_count": 53,
     "metadata": {},
     "output_type": "execute_result"
    }
   ],
   "source": [
    "type(text)"
   ]
  },
  {
   "cell_type": "code",
   "execution_count": 54,
   "id": "6b7ce58e",
   "metadata": {},
   "outputs": [
    {
     "data": {
      "text/plain": [
       "324"
      ]
     },
     "execution_count": 54,
     "metadata": {},
     "output_type": "execute_result"
    }
   ],
   "source": [
    "#To remove all the stop words\n",
    "stop_words = set(stopwords.words('english'))\n",
    "word_tokens = word_tokenize(a)\n",
    "filtered_words = [w for w in word_tokens if not w.lower() in stop_words]#it removes all the stop words\n",
    "filtered_words= [w.lower() for w in filtered_words]\n",
    "words=len(filtered_words)\n",
    "\n",
    "l = ['!','()',',','.','[]',',','{}',',','\" \"','()','(',')',':','”','’','“','?','%']\n",
    "l1=[]\n",
    "for i in filtered_words:\n",
    "    if i not in l:\n",
    "        l1.append(i)\n",
    "l2=set(l1) #to remove duplicate words \n",
    "\n",
    "c=len(l2)#Actual words after cleaning\n",
    "c"
   ]
  },
  {
   "cell_type": "code",
   "execution_count": 55,
   "id": "8b271f09",
   "metadata": {},
   "outputs": [
    {
     "name": "stdout",
     "output_type": "stream",
     "text": [
      "Positive : ['great', 'loved', 'fantastic', 'successful', 'free', 'kind', 'strong', 'best', 'inspire']\n",
      "Negative : []\n"
     ]
    }
   ],
   "source": [
    "from vaderSentiment.vaderSentiment import SentimentIntensityAnalyzer\n",
    "sid = SentimentIntensityAnalyzer()\n",
    "pos_word_list=[]\n",
    "neu_word_list=[]\n",
    "neg_word_list=[]\n",
    "\n",
    "for word in l2:\n",
    "    if (sid.polarity_scores(word)['compound']) >= 0.5:\n",
    "        pos_word_list.append(word)\n",
    "    elif (sid.polarity_scores(word)['compound']) <= -0.5:\n",
    "        neg_word_list.append(word)\n",
    "    else:\n",
    "        neu_word_list.append(word)                \n",
    "\n",
    "print('Positive :',pos_word_list)        \n",
    "    \n",
    "print('Negative :',neg_word_list)    "
   ]
  },
  {
   "cell_type": "code",
   "execution_count": 56,
   "id": "e157cd1e",
   "metadata": {},
   "outputs": [],
   "source": [
    "p=len(pos_word_list)\n",
    "n=len(neg_word_list)\n",
    "ne=len(neu_word_list)"
   ]
  },
  {
   "cell_type": "code",
   "execution_count": 57,
   "id": "ad07c5eb",
   "metadata": {},
   "outputs": [
    {
     "data": {
      "text/plain": [
       "1.000001"
      ]
     },
     "execution_count": 57,
     "metadata": {},
     "output_type": "execute_result"
    }
   ],
   "source": [
    "Polarity_score=(p-n)/(p+n)+0.000001\n",
    "Polarity_score"
   ]
  },
  {
   "cell_type": "code",
   "execution_count": 58,
   "id": "cd084448",
   "metadata": {
    "scrolled": true
   },
   "outputs": [
    {
     "data": {
      "text/plain": [
       "0.027777777692043898"
      ]
     },
     "execution_count": 58,
     "metadata": {},
     "output_type": "execute_result"
    }
   ],
   "source": [
    "subjective_score=(p+n)/(len(l2)+0.000001)\n",
    "subjective_score"
   ]
  },
  {
   "cell_type": "code",
   "execution_count": 59,
   "id": "6bf94783",
   "metadata": {},
   "outputs": [
    {
     "name": "stdout",
     "output_type": "stream",
     "text": [
      "56\n"
     ]
    }
   ],
   "source": [
    "from nltk.tokenize import sent_tokenize, word_tokenize\n",
    "number_of_sentences = sent_tokenize(a)\n",
    "q=print(len(number_of_sentences))"
   ]
  },
  {
   "cell_type": "code",
   "execution_count": 60,
   "id": "d2b839da",
   "metadata": {},
   "outputs": [
    {
     "data": {
      "text/plain": [
       "1751"
      ]
     },
     "execution_count": 60,
     "metadata": {},
     "output_type": "execute_result"
    }
   ],
   "source": [
    "#Syllable count\n",
    "def syllable_count(word):\n",
    "    count = 0\n",
    "    vowels = \"aeiouy\"\n",
    "    if word[0] in vowels:\n",
    "        count += 1\n",
    "    for index in range(1, len(word)):\n",
    "        if word[index] in vowels and word[index - 1] not in vowels:\n",
    "            count += 1\n",
    "            if word.endswith(\"e\"):\n",
    "                count -= 1\n",
    "    if count == 0:\n",
    "        count += 1\n",
    "    return count\n",
    "syllable_count=syllable_count(a)\n",
    "syllable_count"
   ]
  },
  {
   "cell_type": "code",
   "execution_count": 61,
   "id": "126a07f1",
   "metadata": {},
   "outputs": [
    {
     "data": {
      "text/plain": [
       "1883"
      ]
     },
     "execution_count": 61,
     "metadata": {},
     "output_type": "execute_result"
    }
   ],
   "source": [
    "#Complex word count\n",
    "vowels = \"aeiou\"\n",
    "c=0\n",
    "for i in range(len(a)):\n",
    "    if a[i] in vowels:\n",
    "        c+=1\n",
    "c        "
   ]
  },
  {
   "cell_type": "code",
   "execution_count": 62,
   "id": "c698eece",
   "metadata": {},
   "outputs": [
    {
     "data": {
      "text/plain": [
       "43.317414774740726"
      ]
     },
     "execution_count": 62,
     "metadata": {},
     "output_type": "execute_result"
    }
   ],
   "source": [
    "Average_Sentence_Length = text/ 56\n",
    "Percentage_of_Complex_words =  c/ text\n",
    "Fog_Index = 0.4 * ( Average_Sentence_Length + Percentage_of_Complex_words)\n",
    "Fog_Index"
   ]
  },
  {
   "cell_type": "code",
   "execution_count": 63,
   "id": "d34894fe",
   "metadata": {},
   "outputs": [
    {
     "data": {
      "text/plain": [
       "107.98214285714286"
      ]
     },
     "execution_count": 63,
     "metadata": {},
     "output_type": "execute_result"
    }
   ],
   "source": [
    "#Average Number of Words Per Sentence\n",
    "text/56"
   ]
  },
  {
   "cell_type": "code",
   "execution_count": 64,
   "id": "102f7178",
   "metadata": {},
   "outputs": [
    {
     "data": {
      "text/plain": [
       "0.31139407970894656"
      ]
     },
     "execution_count": 64,
     "metadata": {},
     "output_type": "execute_result"
    }
   ],
   "source": [
    "Percentage_of_Complex_words = c/ text\n",
    "Percentage_of_Complex_words"
   ]
  },
  {
   "cell_type": "code",
   "execution_count": 65,
   "id": "6ce1451f",
   "metadata": {},
   "outputs": [
    {
     "data": {
      "text/plain": [
       "1.0"
      ]
     },
     "execution_count": 65,
     "metadata": {},
     "output_type": "execute_result"
    }
   ],
   "source": [
    "#Average word length\n",
    "average_word_length = sum(len(a) for a in a) / len(a)\n",
    "average_word_length"
   ]
  },
  {
   "cell_type": "code",
   "execution_count": 66,
   "id": "b9c105ad",
   "metadata": {},
   "outputs": [
    {
     "name": "stdout",
     "output_type": "stream",
     "text": [
      "422\n"
     ]
    }
   ],
   "source": [
    "#Personal pronouns\n",
    "import re\n",
    "pronounRegex = re.compile(r'I|we|my|ours|us',re.I)\n",
    "pronouns = pronounRegex.findall(a)\n",
    "pronouns=print(len(pronouns))\n",
    "pronouns"
   ]
  }
 ],
 "metadata": {
  "kernelspec": {
   "display_name": "Python 3 (ipykernel)",
   "language": "python",
   "name": "python3"
  },
  "language_info": {
   "codemirror_mode": {
    "name": "ipython",
    "version": 3
   },
   "file_extension": ".py",
   "mimetype": "text/x-python",
   "name": "python",
   "nbconvert_exporter": "python",
   "pygments_lexer": "ipython3",
   "version": "3.9.12"
  }
 },
 "nbformat": 4,
 "nbformat_minor": 5
}
