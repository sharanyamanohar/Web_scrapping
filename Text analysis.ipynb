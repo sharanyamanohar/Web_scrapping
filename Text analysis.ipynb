{
 "cells": [
  {
   "cell_type": "code",
   "execution_count": 22,
   "id": "2bbe0137",
   "metadata": {},
   "outputs": [],
   "source": [
    "from selenium import webdriver\n",
    "from selenium.webdriver.common.keys import Keys\n",
    "from selenium.webdriver.common.by import By\n",
    "import nltk\n",
    "import os\n",
    "from nltk.tokenize import word_tokenize\n",
    "from nltk.corpus import stopwords"
   ]
  },
  {
   "cell_type": "markdown",
   "id": "4c5c0347",
   "metadata": {},
   "source": [
    "# 1st link"
   ]
  },
  {
   "cell_type": "code",
   "execution_count": 2,
   "id": "1b34b583",
   "metadata": {},
   "outputs": [
    {
     "data": {
      "text/plain": [
       "'Certificate Programme In Operations Management And Analytics'"
      ]
     },
     "execution_count": 2,
     "metadata": {},
     "output_type": "execute_result"
    }
   ],
   "source": [
    "#Title\n",
    "driver = webdriver.Chrome()\n",
    "\n",
    "driver.get(\"https://talentedge.com/iit-delhi/operations-management-and-analytics-course\")\n",
    "content = driver.find_element(\"xpath\",\"/html/body/div[4]/section[1]/div/div/div/div/div[1]/div/div/div[2]/h1\")\n",
    "a=(content.text)\n",
    "a"
   ]
  },
  {
   "cell_type": "code",
   "execution_count": 3,
   "id": "7d6b7e2d",
   "metadata": {},
   "outputs": [
    {
     "data": {
      "text/plain": [
       "'Programme Offered by Continuing Education Programme (CEP), IIT Delhi'"
      ]
     },
     "execution_count": 3,
     "metadata": {},
     "output_type": "execute_result"
    }
   ],
   "source": [
    "#Short description\n",
    "driver = webdriver.Chrome()\n",
    "\n",
    "driver.get(\"https://talentedge.com/iit-delhi/operations-management-and-analytics-course\")\n",
    "content = driver.find_element(\"xpath\",\"/html/body/div[4]/section[1]/div/div/div/div/div[1]/div/div/div[2]/p\")\n",
    "a=(content.text)\n",
    "a"
   ]
  },
  {
   "cell_type": "code",
   "execution_count": 4,
   "id": "277c2552",
   "metadata": {},
   "outputs": [
    {
     "data": {
      "text/plain": [
       "'The course is designed to introduce participants (decision-makers from operations as well as non-operations background) to the fundamentals of operations management and analytics. The programme will be taught using business school case study pedagogy and will use a mix of live lectures and self-paced learning modules. The programme aims at enabling the learners to make use o... Read More'"
      ]
     },
     "execution_count": 4,
     "metadata": {},
     "output_type": "execute_result"
    }
   ],
   "source": [
    "#Description\n",
    "driver = webdriver.Chrome()\n",
    "\n",
    "driver.get(\"https://talentedge.com/iit-delhi/operations-management-and-analytics-course\")\n",
    "content = driver.find_element(\"xpath\",\"/html/body/div[4]/section[2]/div/div/div/div[2]/div/div/div[1]/div[1]/div/div[2]/p\")\n",
    "a=(content.text)\n",
    "a"
   ]
  },
  {
   "cell_type": "code",
   "execution_count": 6,
   "id": "159920b4",
   "metadata": {},
   "outputs": [
    {
     "data": {
      "text/plain": [
       "'Key skills you’ll learn\\nCapacity planning\\nManaging Workflows\\nCost Optimization\\nAnalytical skills for planning layout & production'"
      ]
     },
     "execution_count": 6,
     "metadata": {},
     "output_type": "execute_result"
    }
   ],
   "source": [
    "#Key skills\n",
    "driver = webdriver.Chrome()\n",
    "\n",
    "driver.get(\"https://talentedge.com/iit-delhi/operations-management-and-analytics-course\")\n",
    "content = driver.find_element(\"xpath\",\"/html/body/div[4]/section[2]/div/div/div/div[2]/div/div/div[2]\")\n",
    "a=(content.text)\n",
    "a"
   ]
  },
  {
   "cell_type": "code",
   "execution_count": 18,
   "id": "e93a01d2",
   "metadata": {},
   "outputs": [
    {
     "data": {
      "text/plain": [
       "'Bachelor’s degree or Diploma holder, from a recognized university.'"
      ]
     },
     "execution_count": 18,
     "metadata": {},
     "output_type": "execute_result"
    }
   ],
   "source": [
    "#Prerequitsites\n",
    "\n",
    "driver = webdriver.Chrome()\n",
    "\n",
    "driver.get(\"https://talentedge.com/iit-delhi/operations-management-and-analytics-course\")\n",
    "content = driver.find_element(\"xpath\",\"/html/body/div[4]/section[2]/div/div/div/div[4]/div/div/div/div/div[2]/div/div[1]/div/div/ul[1]\")\n",
    "a=(content.text)\n",
    "a"
   ]
  },
  {
   "cell_type": "code",
   "execution_count": 9,
   "id": "064524a9",
   "metadata": {},
   "outputs": [
    {
     "data": {
      "text/plain": [
       "'FOUNDATION TO OPERATIONS MANAGEMENT ANALYTICS\\nPRODUCTION AND CAPACITY PLANNING\\nMAINTENANCE AND QUEUE MANAGEMENT\\nQUALITY AND SIX SIGMA IN OPERATIONS\\nINVENTORY MANAGEMENT\\nMATERIALS RESOURCE PLANNING\\nFORECASTING AND DEMAND MANAGEMENT\\nPREDICTIVE ANALYTICS\\nDESCRIPTIVE ANALYTICS\\nFACILITY PLANNING AND PROJECT MANAGEMENT\\nPRESCRIPTIVE ANALYTICS\\nIntroduction to Concepts, Tools, Techniques, and Analytics\\nTraditional and Advanced Production Systems\\nNeed for Product Re-design and Development'"
      ]
     },
     "execution_count": 9,
     "metadata": {},
     "output_type": "execute_result"
    }
   ],
   "source": [
    "#Syllabus\n",
    "\n",
    "driver = webdriver.Chrome()\n",
    "\n",
    "driver.get(\"https://talentedge.com/iit-delhi/operations-management-and-analytics-course\")\n",
    "content = driver.find_element(\"xpath\",\"/html/body/div[4]/section[2]/div/div/div/div[5]/div/div/div\")\n",
    "a=(content.text)\n",
    "a"
   ]
  },
  {
   "cell_type": "code",
   "execution_count": 12,
   "id": "704d342a",
   "metadata": {},
   "outputs": [
    {
     "data": {
      "text/plain": [
       "'INR 100000 + GST'"
      ]
     },
     "execution_count": 12,
     "metadata": {},
     "output_type": "execute_result"
    }
   ],
   "source": [
    "#Price\n",
    "driver = webdriver.Chrome()\n",
    "\n",
    "driver.get(\"https://talentedge.com/iit-delhi/operations-management-and-analytics-course\")\n",
    "content = driver.find_element(\"xpath\",\"/html/body/div[4]/section[2]/div/div/div/div[8]/div/div/div[1]/div[3]/div[3]/div[1]/div[2]\")\n",
    "a=(content.text)\n",
    "a[0:16]"
   ]
  },
  {
   "cell_type": "markdown",
   "id": "f26429a0",
   "metadata": {},
   "source": [
    "# 2nd link "
   ]
  },
  {
   "cell_type": "code",
   "execution_count": 13,
   "id": "b792d0e0",
   "metadata": {},
   "outputs": [
    {
     "data": {
      "text/plain": [
       "'Executive Development Program In Advanced Financial Management'"
      ]
     },
     "execution_count": 13,
     "metadata": {},
     "output_type": "execute_result"
    }
   ],
   "source": [
    "#Title\n",
    "driver = webdriver.Chrome()\n",
    "\n",
    "driver.get(\"https://talentedge.com/xlri-jamshedpur/financial-management-course\")\n",
    "content = driver.find_element(\"xpath\",\"/html/body/div[4]/section[1]/div/div/div/div/div[1]/div/div/div[2]/h1\")\n",
    "a=(content.text)\n",
    "a"
   ]
  },
  {
   "cell_type": "code",
   "execution_count": 14,
   "id": "84392686",
   "metadata": {},
   "outputs": [
    {
     "data": {
      "text/plain": [
       "'Finance'"
      ]
     },
     "execution_count": 14,
     "metadata": {},
     "output_type": "execute_result"
    }
   ],
   "source": [
    "#Short description\n",
    "driver = webdriver.Chrome()\n",
    "\n",
    "driver.get(\"https://talentedge.com/xlri-jamshedpur/financial-management-course\")\n",
    "content = driver.find_element(\"xpath\",\"/html/body/div[4]/section[1]/div/div/div/div[1]/div[1]/div/div/div[2]/div[1]/p/span\")\n",
    "a=(content.text)\n",
    "a"
   ]
  },
  {
   "cell_type": "code",
   "execution_count": 76,
   "id": "9ac4417e",
   "metadata": {},
   "outputs": [
    {
     "data": {
      "text/plain": [
       "'About this course\\nThe course is designed to introduce participants (decision-makers from operations as well as non-operations background) to the fundamentals of operations management and analytics. The programme will be taught using business school case study pedagogy and will use a mix of live lectures and self-paced learning modules. The programme aims at enabling the learners to make use o... Read More\\nDOWNLOAD BROCHURE\\nGet a deeper understanding of\\nBusiness optimization techniques\\nProcess excellence\\nStakeholder Management\\nCapacity management\\nManagerial Functions\\nSix-Sigma process in operations\\nForecasting and Demand Management\\nNot sure if this is the right course for you?\\nSpeak to Our Expert GET A CALLBACK\\nKey skills you’ll learn\\nCapacity planning\\nManaging Workflows\\nCost Optimization\\nAnalytical skills for planning layout & production\\nJob Opportunities\\nCore operations, Project Management, Program Management, Logistics Head\\nMost suited for\\nNew Managers in an Operations role, Mid Senior Level Managers who want to revisit concepts, Aspiring Young Minds, Fresh Graduates who want to pursue a course in core operations, Entrepreneurs'"
      ]
     },
     "execution_count": 76,
     "metadata": {},
     "output_type": "execute_result"
    }
   ],
   "source": [
    "#Description\n",
    "driver = webdriver.Chrome()\n",
    "\n",
    "driver.get(\"https://talentedge.com/iit-delhi/operations-management-and-analytics-course\")\n",
    "content = driver.find_element(\"xpath\",\"/html/body/div[4]/section[2]/div/div/div/div[2]/div/div\")\n",
    "a=(content.text)\n",
    "a"
   ]
  },
  {
   "cell_type": "code",
   "execution_count": 16,
   "id": "34e97b9f",
   "metadata": {},
   "outputs": [
    {
     "data": {
      "text/plain": [
       "'Risk Management\\nFinancial Planning\\nDecision-Making\\nBudgeting\\nCritical Thinking'"
      ]
     },
     "execution_count": 16,
     "metadata": {},
     "output_type": "execute_result"
    }
   ],
   "source": [
    "#Key skills\n",
    "driver = webdriver.Chrome()\n",
    "\n",
    "driver.get(\"https://talentedge.com/xlri-jamshedpur/financial-management-course\")\n",
    "content = driver.find_element(\"xpath\",\"/html/body/div[4]/section[2]/div/div/div/div[2]/div/div/div[2]/ul\")\n",
    "a=(content.text)\n",
    "a"
   ]
  },
  {
   "cell_type": "code",
   "execution_count": 30,
   "id": "1cc2d64c",
   "metadata": {},
   "outputs": [
    {
     "data": {
      "text/plain": [
       "'For Indian Participants – Graduates (10+2+3) or Diploma Holders (only 10+2+3) from a recognized university (UGC/AICTE/DEC/AIU/State Government) in any discipline\\nFor International Participants – Graduation or equivalent degree from any recognized University or Institution in their respective country'"
      ]
     },
     "execution_count": 30,
     "metadata": {},
     "output_type": "execute_result"
    }
   ],
   "source": [
    "#Prerequitsites\n",
    "\n",
    "driver = webdriver.Chrome()\n",
    "\n",
    "driver.get(\"https://talentedge.com/xlri-jamshedpur/financial-management-course\")\n",
    "content = driver.find_element(\"xpath\",\"/html/body/div[4]/section[2]/div/div/div/div[4]/div/div/div/div/div[2]/div/div[1]/div/div/ul\")\n",
    "a=(content.text)\n",
    "a"
   ]
  },
  {
   "cell_type": "code",
   "execution_count": 36,
   "id": "16341764",
   "metadata": {},
   "outputs": [
    {
     "data": {
      "text/plain": [
       "'Syllabus at a Glance\\nANALYSIS OF FINANCIAL PERFORMANCE\\nRISK AND RETURN ANALYSIS\\nFINANCING STRUCTURE AND FUNDING CHOICES\\nEVALUATING CAPITAL INVESTMENT & PROJECT FINANCING DECISIONS\\nRISK EVALUATION AND MITIGATION IN CAPITAL INVESTMENT DECISIONS\\nWORKING CAPITAL MANAGEMENT\\nCORPORATE & FINANCIAL RESTRUCTURING\\nFINANCIAL BUDGETING-PROCESS & EVALUATION\\nRESPONSIBILTY CENTRE MANAGEMENT & TRANSFER PRICING DECISIONS\\nCORPORATE FINANCE ASPECTS FOR INTERNATIONAL BUSINESS\\nFINANCIAL DIMENSIONS OF GROWTH & GROWTH PLANNING'"
      ]
     },
     "execution_count": 36,
     "metadata": {},
     "output_type": "execute_result"
    }
   ],
   "source": [
    "#Syllabus\n",
    "\n",
    "driver = webdriver.Chrome()\n",
    "\n",
    "driver.get(\"https://talentedge.com/xlri-jamshedpur/financial-management-course\")\n",
    "content = driver.find_element(\"xpath\",\"/html/body/div[4]/section[2]/div/div/div/div[5]/div/div\")\n",
    "a=(content.text)\n",
    "a"
   ]
  },
  {
   "cell_type": "code",
   "execution_count": 29,
   "id": "c6451f2d",
   "metadata": {},
   "outputs": [
    {
     "data": {
      "text/plain": [
       "'INR 85000 + GST '"
      ]
     },
     "execution_count": 29,
     "metadata": {},
     "output_type": "execute_result"
    }
   ],
   "source": [
    "#Price\n",
    "driver = webdriver.Chrome()\n",
    "\n",
    "driver.get(\"https://talentedge.com/xlri-jamshedpur/financial-management-course\")\n",
    "content = driver.find_element(\"xpath\",\"/html/body/div[4]/section[2]/div/div/div/div[8]/div/div/div[1]/div[2]/div[3]/div[1]/div[2]\")\n",
    "a=(content.text)\n",
    "a[0:16]"
   ]
  },
  {
   "cell_type": "markdown",
   "id": "fc2a77bc",
   "metadata": {},
   "source": [
    "# 3rd link "
   ]
  },
  {
   "cell_type": "code",
   "execution_count": 38,
   "id": "3ee15893",
   "metadata": {},
   "outputs": [
    {
     "data": {
      "text/plain": [
       "'Executive Development Program In Human Resource Management'"
      ]
     },
     "execution_count": 38,
     "metadata": {},
     "output_type": "execute_result"
    }
   ],
   "source": [
    "#Title\n",
    "driver = webdriver.Chrome()\n",
    "\n",
    "driver.get(\"https://talentedge.com/xlri-jamshedpur/human-resource-management-course\")\n",
    "content = driver.find_element(\"xpath\",\"/html/body/div[4]/section[1]/div/div/div/div[1]/div[1]/div/div/div[2]/h1\")\n",
    "a=(content.text)\n",
    "a"
   ]
  },
  {
   "cell_type": "code",
   "execution_count": 39,
   "id": "61795ae3",
   "metadata": {},
   "outputs": [
    {
     "data": {
      "text/plain": [
       "'Human Resources'"
      ]
     },
     "execution_count": 39,
     "metadata": {},
     "output_type": "execute_result"
    }
   ],
   "source": [
    "#Short description\n",
    "driver = webdriver.Chrome()\n",
    "\n",
    "driver.get(\"https://talentedge.com/xlri-jamshedpur/human-resource-management-course\")\n",
    "content = driver.find_element(\"xpath\",\"/html/body/div[4]/section[1]/div/div/div/div[1]/div[1]/div/div/div[2]/div[1]/p/span\")\n",
    "a=(content.text)\n",
    "a"
   ]
  },
  {
   "cell_type": "code",
   "execution_count": 74,
   "id": "762c1056",
   "metadata": {},
   "outputs": [
    {
     "data": {
      "text/plain": [
       "'About this course\\nBuild on your people management skills\\nEffective management of human capital is critical to the success of most organizations. The function of HR is key to an organization as it enables the achievement of strategic goals. However, managing organizational performance poses an immense challenge to many HR leaders due to a lack of competent HR profess... Read More\\nDOWNLOAD BROCHURE'"
      ]
     },
     "execution_count": 74,
     "metadata": {},
     "output_type": "execute_result"
    }
   ],
   "source": [
    "#Description\n",
    "driver = webdriver.Chrome()\n",
    "\n",
    "driver.get(\"https://talentedge.com/xlri-jamshedpur/human-resource-management-course\")\n",
    "content = driver.find_element(\"xpath\",\"/html/body/div[4]/section[2]/div/div/div/div[2]/div/div/div[1]/div[1]/div\")\n",
    "a=(content.text)\n",
    "a"
   ]
  },
  {
   "cell_type": "code",
   "execution_count": 47,
   "id": "0ea82acd",
   "metadata": {},
   "outputs": [
    {
     "data": {
      "text/plain": [
       "'Business and HR Strategy Planning\\nEmployer Branding\\nCompetency Based Recruitment and Selection\\nEmployee Engagement\\nGrievance Handling\\nManaging Exit\\nContract administration techniques\\nLearning and Development\\nOrganizational Design and Change\\nHR Analytics'"
      ]
     },
     "execution_count": 47,
     "metadata": {},
     "output_type": "execute_result"
    }
   ],
   "source": [
    "#Key skills\n",
    "driver = webdriver.Chrome()\n",
    "\n",
    "driver.get(\"https://talentedge.com/xlri-jamshedpur/human-resource-management-course\")\n",
    "content = driver.find_element(\"xpath\",\"/html/body/div[4]/section[2]/div/div/div/div[2]/div/div/div[2]/ul\")\n",
    "a=(content.text)\n",
    "a"
   ]
  },
  {
   "cell_type": "code",
   "execution_count": 46,
   "id": "ec7681aa",
   "metadata": {},
   "outputs": [
    {
     "data": {
      "text/plain": [
       "'For Indian Participants: Graduates (10+2+3) or Diploma Holders (only 10+2+3) from a recognized university (UGC/AICTE/DEC/AIU/State Government) in any discipline with minimum of 4 years of work experience in the field of HR.\\nFor International Participants: Graduation or equivalent degree from any recognized University or Institution in their respective country with minimum of 4 years of work experience in the field of HR.'"
      ]
     },
     "execution_count": 46,
     "metadata": {},
     "output_type": "execute_result"
    }
   ],
   "source": [
    "#Prerequitsites\n",
    "\n",
    "driver = webdriver.Chrome()\n",
    "\n",
    "driver.get(\"https://talentedge.com/xlri-jamshedpur/human-resource-management-course\")\n",
    "content = driver.find_element(\"xpath\",\"/html/body/div[4]/section[2]/div/div/div/div[4]/div/div/div/div/div[2]/div/div[1]/div/div/ul[1]\")\n",
    "a=(content.text)\n",
    "a"
   ]
  },
  {
   "cell_type": "code",
   "execution_count": 44,
   "id": "f9b5b3de",
   "metadata": {},
   "outputs": [
    {
     "data": {
      "text/plain": [
       "'Syllabus at a Glance\\nCREATING A BUSINESS ALIGNED HR\\nSTAFFING AND RECRUITMENT\\nENSURING A LEGALLY COMPLIANT HR\\nLEARNING AND DEVELOPMENT\\nTOTAL REWARDS AND PERFORMANCE MANAGEMENT\\nTECHNOLOGY, DATA, AND HR ANALYTICS\\nORGANIZATIONAL DESIGN AND CHANGE\\nRole of HR in Organizations\\nStructure of the HR Function\\nHR in the Global Context\\nBusiness and HR Strategy\\nChange and culture metrics\\nApproaches for linking organizational and HR Strategies'"
      ]
     },
     "execution_count": 44,
     "metadata": {},
     "output_type": "execute_result"
    }
   ],
   "source": [
    "#Syllabus\n",
    "\n",
    "driver = webdriver.Chrome()\n",
    "\n",
    "driver.get(\"https://talentedge.com/xlri-jamshedpur/human-resource-management-course\")\n",
    "content = driver.find_element(\"xpath\",\"/html/body/div[4]/section[2]/div/div/div/div[5]/div/div\")\n",
    "a=(content.text)\n",
    "a"
   ]
  },
  {
   "cell_type": "code",
   "execution_count": 48,
   "id": "f1d372e3",
   "metadata": {},
   "outputs": [
    {
     "data": {
      "text/plain": [
       "'INR 107500 + GST'"
      ]
     },
     "execution_count": 48,
     "metadata": {},
     "output_type": "execute_result"
    }
   ],
   "source": [
    "#Price\n",
    "driver = webdriver.Chrome()\n",
    "\n",
    "driver.get(\"https://talentedge.com/xlri-jamshedpur/human-resource-management-course\")\n",
    "content = driver.find_element(\"xpath\",\"/html/body/div[4]/section[2]/div/div/div/div[8]/div/div/div[1]/div[2]/div[3]/div[1]/div[2]\")\n",
    "a=(content.text)\n",
    "a[0:16]"
   ]
  },
  {
   "cell_type": "markdown",
   "id": "b90a44e1",
   "metadata": {},
   "source": [
    "# 4th link"
   ]
  },
  {
   "cell_type": "code",
   "execution_count": 49,
   "id": "c64bd2db",
   "metadata": {},
   "outputs": [
    {
     "data": {
      "text/plain": [
       "'Professional Certificate Program In Marketing And Sales Management'"
      ]
     },
     "execution_count": 49,
     "metadata": {},
     "output_type": "execute_result"
    }
   ],
   "source": [
    "#Title\n",
    "driver = webdriver.Chrome()\n",
    "\n",
    "driver.get(\"https://talentedge.com/iim-kozhikode/professional-certificate-program-marketing-sales-management-iim-kozhikode\")\n",
    "content = driver.find_element(\"xpath\",\"/html/body/div[4]/section[1]/div/div/div/div/div[1]/div/div/div[2]/h1\")\n",
    "a=(content.text)\n",
    "a"
   ]
  },
  {
   "cell_type": "code",
   "execution_count": 50,
   "id": "eba7e3bb",
   "metadata": {},
   "outputs": [
    {
     "data": {
      "text/plain": [
       "'Brand Sales & Marketing'"
      ]
     },
     "execution_count": 50,
     "metadata": {},
     "output_type": "execute_result"
    }
   ],
   "source": [
    "#Short description\n",
    "driver = webdriver.Chrome()\n",
    "\n",
    "driver.get(\"https://talentedge.com/iim-kozhikode/professional-certificate-program-marketing-sales-management-iim-kozhikode\")\n",
    "content = driver.find_element(\"xpath\",\"/html/body/div[4]/section[1]/div/div/div/div/div[1]/div/div/div[2]/div[1]/p/span\")\n",
    "a=(content.text)\n",
    "a"
   ]
  },
  {
   "cell_type": "code",
   "execution_count": 51,
   "id": "1a68b848",
   "metadata": {},
   "outputs": [
    {
     "data": {
      "text/plain": [
       "'Crafting a great product is just the first half of the story of running a successful business. Generating revenue is dependent upon making the potential customers aware of the product, its advantages and the reasons why it i... Read More'"
      ]
     },
     "execution_count": 51,
     "metadata": {},
     "output_type": "execute_result"
    }
   ],
   "source": [
    "#Description\n",
    "driver = webdriver.Chrome()\n",
    "\n",
    "driver.get(\"https://talentedge.com/iim-kozhikode/professional-certificate-program-marketing-sales-management-iim-kozhikode\")\n",
    "content = driver.find_element(\"xpath\",\"/html/body/div[4]/section[2]/div/div/div/div[2]/div/div/div[1]/div[1]/div/div[2]/p[2]\")\n",
    "a=(content.text)\n",
    "a"
   ]
  },
  {
   "cell_type": "code",
   "execution_count": 54,
   "id": "f38ba54f",
   "metadata": {},
   "outputs": [
    {
     "data": {
      "text/plain": [
       "'Marketing Management\\nCommunication\\nDecision-making\\nSales Management'"
      ]
     },
     "execution_count": 54,
     "metadata": {},
     "output_type": "execute_result"
    }
   ],
   "source": [
    "#Key skills\n",
    "driver = webdriver.Chrome()\n",
    "\n",
    "driver.get(\"https://talentedge.com/iim-kozhikode/professional-certificate-program-marketing-sales-management-iim-kozhikode\")\n",
    "content = driver.find_element(\"xpath\",\"/html/body/div[4]/section[2]/div/div/div/div[2]/div/div/div[2]/ul\")\n",
    "a=(content.text)\n",
    "a"
   ]
  },
  {
   "cell_type": "code",
   "execution_count": 55,
   "id": "cee27835",
   "metadata": {},
   "outputs": [
    {
     "data": {
      "text/plain": [
       "'For Indian Participants – Graduates (10+2+3) or Diploma Holders (only 10+2+3) from a recognized university (UGC/AICTE/DEC/AIU/State Government) in any discipline\\nFor International Participants – Graduation or equivalent degree from any recognized University or Institution in their respective country'"
      ]
     },
     "execution_count": 55,
     "metadata": {},
     "output_type": "execute_result"
    }
   ],
   "source": [
    "#Prerequitsites\n",
    "driver = webdriver.Chrome()\n",
    "\n",
    "driver.get(\"https://talentedge.com/xlri-jamshedpur/financial-management-course\")\n",
    "content = driver.find_element(\"xpath\",\"/html/body/div[4]/section[2]/div/div/div/div[4]/div/div/div/div/div[2]/div/div[1]/div/div/ul[1]\")\n",
    "a=(content.text)\n",
    "a"
   ]
  },
  {
   "cell_type": "code",
   "execution_count": null,
   "id": "9f823b1d",
   "metadata": {},
   "outputs": [],
   "source": [
    "#Syllabus\n",
    "\n",
    "driver = webdriver.Chrome()\n",
    "driver.get(\"https://talentedge.com/iim-kozhikode/professional-certificate-program-marketing-sales-management-iim-kozhikod\")\n",
    "content = driver.find_element(\"xpath\",\"/html/body/div[4]/section[2]/div/div/div/div[5]/div/div/div\")\n",
    "a=(content.text)\n",
    "a"
   ]
  },
  {
   "cell_type": "code",
   "execution_count": 58,
   "id": "49dc71d0",
   "metadata": {},
   "outputs": [
    {
     "data": {
      "text/plain": [
       "'INR 160000 + GST'"
      ]
     },
     "execution_count": 58,
     "metadata": {},
     "output_type": "execute_result"
    }
   ],
   "source": [
    "#Price\n",
    "driver = webdriver.Chrome()\n",
    "\n",
    "driver.get(\"https://talentedge.com/iim-kozhikode/professional-certificate-program-marketing-sales-management-iim-kozhikode\")\n",
    "content = driver.find_element(\"xpath\",\"/html/body/div[4]/section[2]/div/div/div/div[8]/div/div/div[1]/div[2]/div[3]/div[1]/div[2]\")\n",
    "a=(content.text)\n",
    "a[0:16]"
   ]
  },
  {
   "cell_type": "markdown",
   "id": "736e52c1",
   "metadata": {},
   "source": [
    "# 5th link"
   ]
  },
  {
   "cell_type": "code",
   "execution_count": 63,
   "id": "61e6e02d",
   "metadata": {},
   "outputs": [
    {
     "data": {
      "text/plain": [
       "'Professional Certificate Programme In HR Management And Analytics'"
      ]
     },
     "execution_count": 63,
     "metadata": {},
     "output_type": "execute_result"
    }
   ],
   "source": [
    "#Title\n",
    "driver = webdriver.Chrome()\n",
    "\n",
    "driver.get(\"https://talentedge.com/iim-kozhikode/professional-certificate-programme-in-hr-management-and-analytics\")\n",
    "content = driver.find_element(\"xpath\",\"/html/body/div[4]/section[1]/div/div/div/div[1]/div[1]/div/div/div[2]/h1\")\n",
    "a=(content.text)\n",
    "a"
   ]
  },
  {
   "cell_type": "code",
   "execution_count": 64,
   "id": "bc898685",
   "metadata": {},
   "outputs": [
    {
     "data": {
      "text/plain": [
       "'Human Resources , Analytics'"
      ]
     },
     "execution_count": 64,
     "metadata": {},
     "output_type": "execute_result"
    }
   ],
   "source": [
    "#Short description\n",
    "driver = webdriver.Chrome()\n",
    "\n",
    "driver.get(\"https://talentedge.com/iim-kozhikode/professional-certificate-programme-in-hr-management-and-analytics\")\n",
    "content = driver.find_element(\"xpath\",\"/html/body/div[4]/section[1]/div/div/div/div[1]/div[1]/div/div/div[2]/div[2]/p\")\n",
    "a=(content.text)\n",
    "a"
   ]
  },
  {
   "cell_type": "code",
   "execution_count": 65,
   "id": "15ed01d8",
   "metadata": {},
   "outputs": [
    {
     "data": {
      "text/plain": [
       "'This program deals with the collection and management of talent data and its effective application. The course helps to develop the HR analytical skills to handle the data-driven insights and improve the workforce. The managerial skills acquired during this program helps to take informed decisions and promote employee experience. It is targeted for HR practitioners... Read More'"
      ]
     },
     "execution_count": 65,
     "metadata": {},
     "output_type": "execute_result"
    }
   ],
   "source": [
    "#Description\n",
    "driver = webdriver.Chrome()\n",
    "\n",
    "driver.get(\"https://talentedge.com/iim-kozhikode/professional-certificate-programme-in-hr-management-and-analytics\")\n",
    "content = driver.find_element(\"xpath\",\"/html/body/div[4]/section[2]/div/div/div/div[2]/div/div/div[1]/div[1]/div/div[2]/p\")\n",
    "a=(content.text)\n",
    "a"
   ]
  },
  {
   "cell_type": "code",
   "execution_count": 67,
   "id": "ad3bcea0",
   "metadata": {},
   "outputs": [
    {
     "data": {
      "text/plain": [
       "'Talent sourcing\\nEmployee retention,\\nWorkforce planning\\nDevelopment Analytics\\nHR best practices'"
      ]
     },
     "execution_count": 67,
     "metadata": {},
     "output_type": "execute_result"
    }
   ],
   "source": [
    "#Key skills\n",
    "driver = webdriver.Chrome()\n",
    "\n",
    "driver.get(\"https://talentedge.com/iim-kozhikode/professional-certificate-programme-in-hr-management-and-analytics\")\n",
    "content = driver.find_element(\"xpath\",\"/html/body/div[4]/section[2]/div/div/div/div[2]/div/div/div[2]/ul\")\n",
    "a=(content.text)\n",
    "a"
   ]
  },
  {
   "cell_type": "code",
   "execution_count": 68,
   "id": "3aa82068",
   "metadata": {},
   "outputs": [
    {
     "data": {
      "text/plain": [
       "\"- Minimum 2 years work experience if you have a Bachelor's Degree\\n- Freshers can apply if you have a Master’s Degree.\""
      ]
     },
     "execution_count": 68,
     "metadata": {},
     "output_type": "execute_result"
    }
   ],
   "source": [
    "#Prerequitsites\n",
    "\n",
    "driver = webdriver.Chrome()\n",
    "\n",
    "driver.get(\"https://talentedge.com/iim-kozhikode/professional-certificate-programme-in-hr-management-and-analytics\")\n",
    "content = driver.find_element(\"xpath\",\"/html/body/div[4]/section[2]/div/div/div/div[4]/div/div/div/div/div[2]/div/div[1]/div/div\")\n",
    "a=(content.text)\n",
    "a"
   ]
  },
  {
   "cell_type": "code",
   "execution_count": 71,
   "id": "c232b372",
   "metadata": {},
   "outputs": [
    {
     "data": {
      "text/plain": [
       "''"
      ]
     },
     "execution_count": 71,
     "metadata": {},
     "output_type": "execute_result"
    }
   ],
   "source": [
    "#Syllabus\n",
    "\n",
    "driver = webdriver.Chrome()\n",
    "\n",
    "driver.get(\"https://talentedge.com/iim-kozhikode/professional-certificate-programme-in-hr-management-and-analytics\")\n",
    "content = driver.find_element(\"xpath\",\"/html/body/div[4]/section[2]/div/div/div/div[5]/div/div/div/div/div[3]\")\n",
    "a=(content.text)\n",
    "a"
   ]
  },
  {
   "cell_type": "code",
   "execution_count": 72,
   "id": "25231d11",
   "metadata": {},
   "outputs": [
    {
     "data": {
      "text/plain": [
       "'INR 105932 + GST'"
      ]
     },
     "execution_count": 72,
     "metadata": {},
     "output_type": "execute_result"
    }
   ],
   "source": [
    "#Price\n",
    "driver = webdriver.Chrome()\n",
    "\n",
    "driver.get(\"https://talentedge.com/iim-kozhikode/professional-certificate-programme-in-hr-management-and-analytics\")\n",
    "content = driver.find_element(\"xpath\",\"/html/body/div[4]/section[2]/div/div/div/div[8]/div/div/div[1]/div[2]/div[3]/div[1]/div[2]\")\n",
    "a=(content.text)\n",
    "a[0:16]"
   ]
  }
 ],
 "metadata": {
  "kernelspec": {
   "display_name": "Python 3 (ipykernel)",
   "language": "python",
   "name": "python3"
  },
  "language_info": {
   "codemirror_mode": {
    "name": "ipython",
    "version": 3
   },
   "file_extension": ".py",
   "mimetype": "text/x-python",
   "name": "python",
   "nbconvert_exporter": "python",
   "pygments_lexer": "ipython3",
   "version": "3.9.12"
  }
 },
 "nbformat": 4,
 "nbformat_minor": 5
}
